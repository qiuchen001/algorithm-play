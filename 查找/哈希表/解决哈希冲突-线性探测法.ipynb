{
 "cells": [
  {
   "cell_type": "markdown",
   "source": [
    "哈希（Hash）是一种将任意长度的输入（通常是数据）映射到固定长度的输出（通常是一个整数）的函数。\n",
    "\n",
    "## 哈希表的定义\n",
    "- 哈希表：一种基于哈希函数的数据结构，用于高效地存储和检索数据。\n",
    "- 桶（Bucket）：哈希表中的每个位置，用于存储键值对。\n",
    "- 冲突（Collision）：不同的键值对映射到同一个桶。\n",
    "\n",
    "哈希表（Hash Table）之所以被称为哈希表，是因为它使用了哈希函数（Hash Function）来计算键的存储位置，以取模运算为例，取模的结果总是在被限定在一个固定的范围之内"
   ],
   "metadata": {
    "collapsed": false
   },
   "id": "f52951b50ddc263d"
  },
  {
   "cell_type": "markdown",
   "source": [
    "## 解决哈希冲突\n",
    "哈希表解决冲突的方式有多种，其中线性探测法（Linear Probing）是一种常见的开放地址法（Open Addressing）。线性探测法通过在发生冲突时，顺序地查找下一个可用的桶，直到找到一个空桶或遍历完整个哈希表\n",
    "\n",
    "### 线性探测法的定义\n",
    "- 线性探测法：在发生冲突时，顺序地查找下一个可用的桶，直到找到一个空桶或遍历完整个哈希表。\n",
    "- 探测序列：h(k, i) = (h'(k) + i) % m，其中 h'(k) 是原始哈希函数，i 是探测次数，m 是哈希表的大小。\n",
    "\n",
    "### 线性探测法的步骤\n",
    "1. 插入：\n",
    "- 计算键的哈希值 h'(k)。\n",
    "- 如果对应的桶为空，插入键值对。\n",
    "- 如果对应的桶不为空，顺序查找下一个桶，直到找到一个空桶或遍历完整个哈希表。\n",
    "\n",
    "2. 查找：\n",
    "- 计算键的哈希值 h'(k)。\n",
    "- 如果对应的桶为空，查找失败。\n",
    "- 如果对应的桶不为空，比较键值对，如果匹配，查找成功；否则，顺序查找下一个桶，直到找到匹配的键值对或遍历完整个哈希表。\n",
    "\n",
    "3. 删除：\n",
    "- 计算键的哈希值 h'(k)。\n",
    "- 如果对应的桶为空，删除失败。\n",
    "- 如果对应的桶不为空，比较键值对，如果匹配，删除键值对；否则，顺序查找下一个桶，直到找到匹配的键值对或遍历完整个哈希表。"
   ],
   "metadata": {
    "collapsed": false
   },
   "id": "3e51f3c1836c20c"
  },
  {
   "cell_type": "markdown",
   "source": [
    "### 线性探测法的示例\n",
    "假设哈希表的表长为 11，并且我们要插入以下键值对：47, 34, 13, 12, 52, 38, 33, 27, 3。我们将逐步演示插入过程，并解释如何使用线性探测法解决冲突。\n",
    "\n",
    "哈希函数\n",
    "我们使用简单的哈希函数 h(k) = k % 11，其中 k 是键，11 是哈希表的表长。\n",
    "\n",
    "插入过程\n",
    "1. 插入 47：\n",
    "- 计算哈希值：h(47) = 47 % 11 = 3。\n",
    "- 插入位置：3。\n",
    "- 哈希表状态：[None, None, None, 47, None, None, None, None, None, None, None]。\n",
    "\n",
    "2. 插入 34：\n",
    "- 计算哈希值：h(34) = 34 % 11 = 1。\n",
    "- 插入位置：1。\n",
    "- 哈希表状态：[None, 34, None, 47, None, None, None, None, None, None, None]。\n",
    "\n",
    "3. 插入 13：\n",
    "- 计算哈希值：h(13) = 13 % 11 = 2。\n",
    "- 插入位置：2。\n",
    "- 哈希表状态：[None, 34, 13, 47, None, None, None, None, None, None, None]。\n",
    "\n",
    "4. 插入 12：\n",
    "- 计算哈希值：h(12) = 12 % 11 = 1。\n",
    "- 插入位置：1（冲突）。\n",
    "- 线性探测：查找下一个位置 2（冲突），3（冲突），4（空）。\n",
    "- 插入位置：4。\n",
    "- 哈希表状态：[None, 34, 13, 47, 12, None, None, None, None, None, None]。\n",
    "\n",
    "5. 插入 52：\n",
    "- 计算哈希值：h(52) = 52 % 11 = 8。\n",
    "- 插入位置：8。\n",
    "- 哈希表状态：[None, 34, 13, 47, 12, None, None, None, 52, None, None]。\n",
    "\n",
    "6. 插入 38：\n",
    "- 计算哈希值：h(38) = 38 % 11 = 5。\n",
    "- 插入位置：5。\n",
    "- 哈希表状态：[None, 34, 13, 47, 12, 38, None, None, 52, None, None]。\n",
    "\n",
    "7. 插入 33：\n",
    "- 计算哈希值：h(33) = 33 % 11 = 0。\n",
    "- 插入位置：0。\n",
    "- 哈希表状态：[33, 34, 13, 47, 12, 38, None, None, 52, None, None]。\n",
    "\n",
    "8. 插入 27：\n",
    "- 计算哈希值：h(27) = 27 % 11 = 5。\n",
    "- 插入位置：5（冲突）。\n",
    "- 线性探测：查找下一个位置 6（空）。\n",
    "- 插入位置：6。\n",
    "- 哈希表状态：[33, 34, 13, 47, 12, 38, 27, None, 52, None, None]。\n",
    "\n",
    "9. 插入 3：\n",
    "- 计算哈希值：h(3) = 3 % 11 = 3。\n",
    "- 插入位置：3（冲突）。\n",
    "- 线性探测：查找下一个位置 4（冲突），5（冲突），6（冲突），7（空）。\n",
    "- 插入位置：7。\n",
    "- 哈希表状态：[33, 34, 13, 47, 12, 38, 27, 3, 52, None, None]。\n",
    "\n",
    "最终哈希表状态\n",
    "```\n",
    "哈希表:\n",
    "0: [33]\n",
    "1: [34]\n",
    "2: [13]\n",
    "3: [47]\n",
    "4: [12]\n",
    "5: [38]\n",
    "6: [27]\n",
    "7: [3]\n",
    "8: [52]\n",
    "9: [None]\n",
    "10: [None]\n",
    "```"
   ],
   "metadata": {
    "collapsed": false
   },
   "id": "e3e9f1c5787a5776"
  },
  {
   "cell_type": "markdown",
   "source": [
    "### 代码实现\n",
    "以下是一个 Python 代码示例，展示如何使用线性探测法实现哈希表的基本操作："
   ],
   "metadata": {
    "collapsed": false
   },
   "id": "22129e86efbcd22a"
  },
  {
   "cell_type": "code",
   "execution_count": null,
   "outputs": [],
   "source": [
    "class HashTable:\n",
    "    def __init__(self, size):\n",
    "        self.size = size\n",
    "        self.table = [None] * size\n",
    "\n",
    "    def _hash(self, key):\n",
    "        return key % self.size\n",
    "\n",
    "    def insert(self, key):\n",
    "        hash_key = self._hash(key)\n",
    "        i = 0\n",
    "        while self.table[hash_key] is not None:\n",
    "            i += 1\n",
    "            hash_key = (hash_key + 1) % self.size\n",
    "            if i == self.size:\n",
    "                raise Exception(\"哈希表已满\")\n",
    "        self.table[hash_key] = key\n",
    "\n",
    "    def search(self, key):\n",
    "        hash_key = self._hash(key)\n",
    "        i = 0\n",
    "        while self.table[hash_key] is not None:\n",
    "            if self.table[hash_key] == key:\n",
    "                return hash_key\n",
    "            i += 1\n",
    "            hash_key = (hash_key + 1) % self.size\n",
    "            if i == self.size:\n",
    "                break\n",
    "        return None\n",
    "\n",
    "    def delete(self, key):\n",
    "        hash_key = self._hash(key)\n",
    "        i = 0\n",
    "        while self.table[hash_key] is not None:\n",
    "            if self.table[hash_key] == key:\n",
    "                self.table[hash_key] = None\n",
    "                return\n",
    "            i += 1\n",
    "            hash_key = (hash_key + 1) % self.size\n",
    "            if i == self.size:\n",
    "                break\n",
    "\n",
    "# 测试哈希表\n",
    "hash_table = HashTable(11)\n",
    "keys = [47, 34, 13, 12, 52, 38, 33, 27, 3]\n",
    "\n",
    "for key in keys:\n",
    "    hash_table.insert(key)\n",
    "\n",
    "# 查找键值对\n",
    "result = hash_table.search(3)\n",
    "if result is not None:\n",
    "    print(f\"找到键值对 {result}\")\n",
    "else:\n",
    "    print(\"未找到键值对\")\n",
    "\n",
    "# 删除键值对\n",
    "hash_table.delete(3)\n",
    "result = hash_table.search(3)\n",
    "if result is not None:\n",
    "    print(f\"找到键值对 {result}\")\n",
    "else:\n",
    "    print(\"未找到键值对\")"
   ],
   "metadata": {
    "collapsed": false
   },
   "id": "442cf5b8a228e6a"
  },
  {
   "cell_type": "markdown",
   "source": [
    "可能的输出\n",
    "```\n",
    "找到键值对 7\n",
    "未找到键值对\n",
    "```"
   ],
   "metadata": {
    "collapsed": false
   },
   "id": "657c642c38b4464b"
  },
  {
   "cell_type": "markdown",
   "source": [
    "注意事项\n",
    "- 探测序列：线性探测法的探测序列是线性的，可能会导致聚集（Clustering）问题，即连续的桶被占用，影响查找效率。\n",
    "- 哈希表大小：选择合适的哈希表大小，平衡存储空间和查找效率。\n",
    "- 哈希函数：选择合适的哈希函数，确保哈希值的均匀分布，减少冲突。\n",
    "\n",
    "总结\n",
    "线性探测法是一种常见的开放地址法，通过在发生冲突时，顺序地查找下一个可用的桶，直到找到一个空桶或遍历完整个哈希表。线性探测法简单易实现，但可能会导致聚集问题，影响查找效率。通过正确理解和使用线性探测法，可以更好地处理哈希表冲突问题，并进行相应的操作和调试。"
   ],
   "metadata": {
    "collapsed": false
   },
   "id": "f901c9cf2ff1dea1"
  }
 ],
 "metadata": {
  "kernelspec": {
   "display_name": "Python 3",
   "language": "python",
   "name": "python3"
  },
  "language_info": {
   "codemirror_mode": {
    "name": "ipython",
    "version": 2
   },
   "file_extension": ".py",
   "mimetype": "text/x-python",
   "name": "python",
   "nbconvert_exporter": "python",
   "pygments_lexer": "ipython2",
   "version": "2.7.6"
  }
 },
 "nbformat": 4,
 "nbformat_minor": 5
}
