{
 "cells": [
  {
   "cell_type": "markdown",
   "source": [
    "在链地址法中，哈希表的每个桶（Bucket）存储一个链表（或其他数据结构，如数组），用于存储映射到同一个哈希值的所有键值对。当发生冲突时，新的键值对会被添加到对应桶的链表中\n",
    "\n",
    "# 链地址法的定义\n",
    "- 链地址法：在哈希表的每个桶中存储一个链表，用于存储映射到同一个哈希值的所有键值对。\n",
    "- 桶（Bucket）：哈希表中的每个位置，用于存储链表。\n",
    "- 冲突（Collision）：不同的键值对映射到同一个哈希值。\n",
    "\n",
    "# 链地址法的特性\n",
    "1. 高效性：链地址法的插入、查找和删除操作的时间复杂度通常是 O(1)，但在最坏情况下（所有键值对映射到同一个桶），时间复杂度为 O(n)。\n",
    "2. 灵活性：链地址法可以动态调整链表的长度，适应不同数量的键值对。\n",
    "3. 均匀性：哈希函数应尽量均匀地分布哈希值，以减少冲突。"
   ],
   "metadata": {
    "collapsed": false
   },
   "id": "8744e08458dc75af"
  }
 ],
 "metadata": {
  "kernelspec": {
   "display_name": "Python 3",
   "language": "python",
   "name": "python3"
  },
  "language_info": {
   "codemirror_mode": {
    "name": "ipython",
    "version": 2
   },
   "file_extension": ".py",
   "mimetype": "text/x-python",
   "name": "python",
   "nbconvert_exporter": "python",
   "pygments_lexer": "ipython2",
   "version": "2.7.6"
  }
 },
 "nbformat": 4,
 "nbformat_minor": 5
}
