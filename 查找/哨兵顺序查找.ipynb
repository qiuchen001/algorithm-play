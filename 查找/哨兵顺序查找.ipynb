{
 "cells": [
  {
   "cell_type": "markdown",
   "source": [
    "有哨兵顺序查找（Sentinel Sequential Search）是一种改进的顺序查找算法，通过在列表的末尾添加一个哨兵（sentinel）元素来减少比较次数。哨兵元素的值为目标元素，这样在查找过程中可以避免每次都检查是否到达列表末尾。\n",
    "\n",
    "## 有哨兵顺序查找的定义\n",
    "- 有哨兵顺序查找：在列表的末尾添加一个哨兵元素，其值为目标元素。从列表的第一个元素开始，逐个检查每个元素，直到找到目标元素或遇到哨兵元素。\n",
    "- 时间复杂度：平均情况下，有哨兵顺序查找的时间复杂度为 O(n)，其中 n 是列表的长度。\n",
    "\n",
    "## 有哨兵顺序查找的步骤\n",
    "- 添加哨兵：在列表的末尾添加一个哨兵元素，其值为目标元素。\n",
    "- 初始化：从列表的第一个元素开始。\n",
    "- 逐个检查：逐个检查列表中的元素，直到找到目标元素或遇到哨兵元素。\n",
    "- 返回结果：如果找到目标元素且不是哨兵元素，返回其索引；否则，返回查找失败的信息。\n",
    "\n",
    "## 哨兵顺序查找的优势\n",
    "哨兵顺序查找的主要优势在于减少了每次循环中的比较次数。在传统的顺序查找中，每次循环都需要进行两次比较：\n",
    "- 比较当前元素是否等于目标元素。\n",
    "- 比较当前索引是否小于列表长度，以防止越界。\n",
    "\n",
    "而在哨兵顺序查找中，只需要进行一次比较：\n",
    "- 比较当前元素是否等于目标元素。\n",
    "这是因为哨兵元素保证了循环一定会终止，因此不需要检查索引是否越界。"
   ],
   "metadata": {
    "collapsed": false
   },
   "id": "f40a7c8cf0bc5996"
  },
  {
   "cell_type": "markdown",
   "source": [
    "## 示例分析\n",
    "假设有一个列表 [10, 20, 30, 40, 50]，目标元素为 30。\n",
    "\n",
    "## 传统顺序查找"
   ],
   "metadata": {
    "collapsed": false
   },
   "id": "b75885b450231ce9"
  },
  {
   "cell_type": "code",
   "execution_count": null,
   "outputs": [],
   "source": [
    "def sequential_search(arr, target):\n",
    "    for i in range(len(arr)):\n",
    "        if arr[i] == target:\n",
    "            return i  # 找到目标元素，返回索引\n",
    "    return -1  # 未找到目标元素，返回 -1"
   ],
   "metadata": {
    "collapsed": false
   },
   "id": "4e54ec7aaeeda1e3"
  },
  {
   "cell_type": "markdown",
   "source": [
    "比较次数：每次循环进行两次比较（元素比较和索引检查）。\n",
    "\n",
    "总比较次数：5 次元素比较 + 5 次索引检查 = 10 次比较。"
   ],
   "metadata": {
    "collapsed": false
   },
   "id": "8b6ccc640dfb8713"
  },
  {
   "cell_type": "markdown",
   "source": [
    "## 哨兵顺序查找"
   ],
   "metadata": {
    "collapsed": false
   },
   "id": "7c64061c5bd6fe97"
  },
  {
   "cell_type": "code",
   "execution_count": null,
   "outputs": [],
   "source": [
    "def sentinel_sequential_search(arr, target):\n",
    "    n = len(arr)\n",
    "    arr.append(target)  # 在列表末尾添加哨兵元素\n",
    "    i = 0\n",
    "\n",
    "    while arr[i] != target:\n",
    "        i += 1\n",
    "\n",
    "    arr.pop()  # 移除哨兵元素\n",
    "\n",
    "    if i < n:\n",
    "        return i  # 找到目标元素，返回索引\n",
    "    else:\n",
    "        return -1  # 未找到目标元素，返回 -1"
   ],
   "metadata": {
    "collapsed": false
   },
   "id": "f0f042adecde9dae"
  },
  {
   "cell_type": "markdown",
   "source": [
    "- 比较次数：每次循环进行一次比较（元素比较）。\n",
    "- 总比较次数：5 次元素比较（找到目标元素） + 1 次哨兵比较（终止循环） = 6 次比较。\n",
    "\n",
    "## 性能分析\n",
    "- 最坏情况：在传统顺序查找中，最坏情况下需要进行 2n 次比较（n 次元素比较 + n 次索引检查）。而在哨兵顺序查找中，最坏情况下需要进行 n + 1 次比较（n 次元素比较 + 1 次哨兵比较）。\n",
    "- 平均情况：在平均情况下，哨兵顺序查找的比较次数略少于传统顺序查找，因为减少了索引检查的次数。\n",
    "\n",
    "## 总结\n",
    "哨兵顺序查找通过在列表末尾添加一个哨兵元素，减少了每次循环中的比较次数。虽然这种优化在某些情况下可能不明显，但在最坏情况下，哨兵顺序查找的比较次数确实比传统顺序查找少。通过正确理解和使用哨兵顺序查找，可以更好地处理查找问题，并进行相应的操作和调试。"
   ],
   "metadata": {
    "collapsed": false
   },
   "id": "6a8f3b5c1a740f46"
  }
 ],
 "metadata": {
  "kernelspec": {
   "display_name": "Python 3",
   "language": "python",
   "name": "python3"
  },
  "language_info": {
   "codemirror_mode": {
    "name": "ipython",
    "version": 2
   },
   "file_extension": ".py",
   "mimetype": "text/x-python",
   "name": "python",
   "nbconvert_exporter": "python",
   "pygments_lexer": "ipython2",
   "version": "2.7.6"
  }
 },
 "nbformat": 4,
 "nbformat_minor": 5
}
