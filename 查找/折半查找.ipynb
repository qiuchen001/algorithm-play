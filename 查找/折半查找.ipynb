{
 "cells": [
  {
   "cell_type": "markdown",
   "source": [
    "折半查找（Binary Search），也称为二分查找，是一种高效的查找算法，适用于已排序的列表。它通过将列表分成两半，并根据目标元素与中间元素的比较结果，逐步缩小查找范围，直到找到目标元素或确定目标元素不存在。折半查找的时间复杂度为 O(log n)，其中 n 是列表的长度。\n",
    "\n",
    "## 折半查找的定义\n",
    "- 折半查找：在已排序的列表中，通过将列表分成两半，并根据目标元素与中间元素的比较结果，逐步缩小查找范围，直到找到目标元素或确定目标元素不存在。\n",
    "- 时间复杂度：O(log n)，其中 n 是列表的长度。\n",
    "\n",
    "## 折半查找的时间复杂度分析\n",
    "折半查找（Binary Search）的时间复杂度为 O(log n)，其中 n 是列表的长度。具体分析如下：\n",
    "1. 基本操作：折半查找的基本操作是比较中间元素与目标元素。\n",
    "2. 操作次数：每次比较后，查找范围缩小一半。假设列表长度为 n，经过 k 次比较后，查找范围缩小到 1，即 n / (2^k) = 1，解得 k = log2(n)。\n",
    "3. 时间复杂度：折半查找的时间复杂度为 O(log n)，其中 n 是列表的长度。\n",
    "\n",
    "## 折半查找的步骤\n",
    "1. 初始化：设置查找范围的上下界，通常为列表的起始索引和结束索引。\n",
    "2. 循环查找：\n",
    "- 计算中间元素的索引。\n",
    "- 比较中间元素与目标元素：\n",
    "    - 如果中间元素等于目标元素，返回中间元素的索引。\n",
    "    - 如果中间元素大于目标元素，将查找范围缩小到左半部分。\n",
    "    - 如果中间元素小于目标元素，将查找范围缩小到右半部分。\n",
    "3. 返回结果：如果找到目标元素，返回其索引；否则，返回查找失败的信息。"
   ],
   "metadata": {
    "collapsed": false
   },
   "id": "7638b0ac3f73cc1f"
  },
  {
   "cell_type": "markdown",
   "source": [
    "## 示例\n",
    "假设有一个已排序的列表 [10, 20, 30, 40, 50]，目标元素为 30。折半查找的过程如下：\n",
    "1. 初始化查找范围：low = 0，high = 4。\n",
    "2. 计算中间元素的索引：mid = (0 + 4) // 2 = 2。\n",
    "3. 比较中间元素 30 与目标元素 30：\n",
    "    - 中间元素等于目标元素，返回索引 2。"
   ],
   "metadata": {
    "collapsed": false
   },
   "id": "f428cc9f1b64ecd3"
  },
  {
   "cell_type": "markdown",
   "source": [
    "## 代码实现\n",
    "以下是一个 Python 代码示例，展示如何实现折半查找："
   ],
   "metadata": {
    "collapsed": false
   },
   "id": "837f102a9b03c884"
  },
  {
   "cell_type": "code",
   "execution_count": null,
   "outputs": [],
   "source": [
    "def binary_search(arr, target):\n",
    "    low = 0\n",
    "    high = len(arr) - 1\n",
    "\n",
    "    while low <= high:\n",
    "        mid = (low + high) // 2\n",
    "        mid_val = arr[mid]\n",
    "\n",
    "        if mid_val == target:\n",
    "            return mid  # 找到目标元素，返回索引\n",
    "        elif mid_val < target:\n",
    "            low = mid + 1  # 目标元素在右半部分\n",
    "        else:\n",
    "            high = mid - 1  # 目标元素在左半部分\n",
    "\n",
    "    return -1  # 未找到目标元素，返回 -1\n",
    "\n",
    "# 测试折半查找\n",
    "arr = [10, 20, 30, 40, 50]\n",
    "target = 30\n",
    "result = binary_search(arr, target)\n",
    "\n",
    "if result != -1:\n",
    "    print(f\"目标元素 {target} 在列表中的索引为 {result}。\")\n",
    "else:\n",
    "    print(f\"目标元素 {target} 不在列表中。\")"
   ],
   "metadata": {
    "collapsed": false
   },
   "id": "3a53d040b79c9e35"
  },
  {
   "cell_type": "markdown",
   "source": [
    "可能的输出\n",
    "```\n",
    "目标元素 30 在列表中的索引为 2。\n",
    "```"
   ],
   "metadata": {
    "collapsed": false
   },
   "id": "242ac67e71f797b6"
  },
  {
   "cell_type": "markdown",
   "source": [
    "## 注意事项\n",
    "- 列表的顺序：折半查找适用于已排序的列表，因为它通过比较中间元素来缩小查找范围。\n",
    "- 时间复杂度：折半查找的时间复杂度为 O(log n)，其中 n 是列表的长度。\n",
    "- 查找失败：如果目标元素不在列表中，折半查找会逐步缩小查找范围，最终返回查找失败的信息。\n",
    "\n",
    "## 总结\n",
    "折半查找是一种高效的查找算法，适用于已排序的列表。它通过将列表分成两半，并根据目标元素与中间元素的比较结果，逐步缩小查找范围，直到找到目标元素或确定目标元素不存在。折半查找的时间复杂度为 O(log n)，其中 n 是列表的长度。通过正确理解和使用折半查找，可以更好地处理查找问题，并进行相应的操作和调试。"
   ],
   "metadata": {
    "collapsed": false
   },
   "id": "15aba6427b0b3190"
  }
 ],
 "metadata": {
  "kernelspec": {
   "display_name": "Python 3",
   "language": "python",
   "name": "python3"
  },
  "language_info": {
   "codemirror_mode": {
    "name": "ipython",
    "version": 2
   },
   "file_extension": ".py",
   "mimetype": "text/x-python",
   "name": "python",
   "nbconvert_exporter": "python",
   "pygments_lexer": "ipython2",
   "version": "2.7.6"
  }
 },
 "nbformat": 4,
 "nbformat_minor": 5
}
