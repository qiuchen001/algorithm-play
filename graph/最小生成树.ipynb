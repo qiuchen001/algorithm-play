{
 "cells": [
  {
   "cell_type": "markdown",
   "source": [
    "最小生成树（Minimum Spanning Tree, MST）是图论中的一个重要概念，用于在带权无向图中找到一棵包含所有顶点的树，使得树的所有边的权重之和最小。最小生成树在网络设计、电路设计、聚类分析等领域有广泛应用。\n",
    "\n",
    "## 最小生成树的定义\n",
    "- 生成树：一个无向图的生成树是一个包含图中所有顶点的树。生成树的边数为 n-1，其中 n 是图中顶点的数量。\n",
    "- 最小生成树：在带权无向图中，最小生成树是所有生成树中边权重之和最小的树。\n",
    "\n",
    "## 常见的最小生成树算法\n",
    "1. Kruskal 算法：\n",
    "- 将图中的所有边按权重从小到大排序。\n",
    "- 依次选择权重最小的边，如果加入该边不会形成环，则将其加入生成树。\n",
    "- 重复上述步骤，直到生成树包含所有顶点。\n",
    "\n",
    "2. Prim 算法：\n",
    "- 选择一个起始顶点，将其加入生成树。\n",
    "- 从生成树中的顶点出发，选择一条连接生成树外顶点的最小权重边，将其加入生成树。\n",
    "- 重复上述步骤，直到生成树包含所有顶点。\n",
    "\n",
    "## 示例\n",
    "假设有一个带权无向图，包含 4 个顶点 V = {0, 1, 2, 3}，边及其权重如下：\n",
    "- 从顶点 0 到顶点 1，权重为 1。\n",
    "- 从顶点 1 到顶点 2，权重为 2。\n",
    "- 从顶点 2 到顶点 3，权重为 3。\n",
    "- 从顶点 3 到顶点 0，权重为 4。\n",
    "\n",
    "这个图的最小生成树如下："
   ],
   "metadata": {
    "collapsed": false
   },
   "id": "66aaf7a129e6aafc"
  },
  {
   "cell_type": "code",
   "execution_count": null,
   "outputs": [],
   "source": [
    "from collections import defaultdict\n",
    "import heapq\n",
    "\n",
    "class Graph:\n",
    "    def __init__(self, vertices):\n",
    "        self.V = vertices\n",
    "        self.graph = []\n",
    "\n",
    "    def add_edge(self, u, v, w):\n",
    "        self.graph.append([u, v, w])\n",
    "\n",
    "    def find(self, parent, i):\n",
    "        if parent[i] == i:\n",
    "            return i\n",
    "        return self.find(parent, parent[i])\n",
    "\n",
    "    def union(self, parent, rank, x, y):\n",
    "        xroot = self.find(parent, x)\n",
    "        yroot = self.find(parent, y)\n",
    "\n",
    "        if rank[xroot] < rank[yroot]:\n",
    "            parent[xroot] = yroot\n",
    "        elif rank[xroot] > rank[yroot]:\n",
    "            parent[yroot] = xroot\n",
    "        else:\n",
    "            parent[yroot] = xroot\n",
    "            rank[xroot] += 1\n",
    "\n",
    "    def kruskal_mst(self):\n",
    "        result = []\n",
    "        i, e = 0, 0\n",
    "        self.graph = sorted(self.graph, key=lambda item: item[2])\n",
    "        parent = []\n",
    "        rank = []\n",
    "\n",
    "        for node in range(self.V):\n",
    "            parent.append(node)\n",
    "            rank.append(0)\n",
    "\n",
    "        while e < self.V - 1:\n",
    "            u, v, w = self.graph[i]\n",
    "            i += 1\n",
    "            x = self.find(parent, u)\n",
    "            y = self.find(parent, v)\n",
    "\n",
    "            if x != y:\n",
    "                e += 1\n",
    "                result.append([u, v, w])\n",
    "                self.union(parent, rank, x, y)\n",
    "\n",
    "        print(\"Kruskal MST:\")\n",
    "        for u, v, weight in result:\n",
    "            print(f\"{u} --({weight})--> {v}\")\n",
    "\n",
    "    def prim_mst(self):\n",
    "        key = [float('inf')] * self.V\n",
    "        parent = [None] * self.V\n",
    "        mst_set = [False] * self.V\n",
    "        key[0] = 0\n",
    "        parent[0] = -1\n",
    "\n",
    "        for _ in range(self.V):\n",
    "            u = self.min_key(key, mst_set)\n",
    "            mst_set[u] = True\n",
    "\n",
    "            for v in range(self.V):\n",
    "                if self.graph[u][v] > 0 and mst_set[v] == False and key[v] > self.graph[u][v]:\n",
    "                    key[v] = self.graph[u][v]\n",
    "                    parent[v] = u\n",
    "\n",
    "        print(\"Prim MST:\")\n",
    "        for i in range(1, self.V):\n",
    "            print(f\"{parent[i]} --({self.graph[i][parent[i]]})--> {i}\")\n",
    "\n",
    "    def min_key(self, key, mst_set):\n",
    "        min_val = float('inf')\n",
    "        min_index = -1\n",
    "\n",
    "        for v in range(self.V):\n",
    "            if key[v] < min_val and mst_set[v] == False:\n",
    "                min_val = key[v]\n",
    "                min_index = v\n",
    "\n",
    "        return min_index\n",
    "\n",
    "# 创建图\n",
    "g = Graph(4)\n",
    "g.add_edge(0, 1, 1)\n",
    "g.add_edge(1, 2, 2)\n",
    "g.add_edge(2, 3, 3)\n",
    "g.add_edge(3, 0, 4)\n",
    "\n",
    "# 使用 Kruskal 算法求解最小生成树\n",
    "g.kruskal_mst()\n",
    "\n",
    "# 使用 Prim 算法求解最小生成树\n",
    "g.prim_mst()"
   ],
   "metadata": {
    "collapsed": false
   },
   "id": "892a656a2f9a77a5"
  },
  {
   "cell_type": "markdown",
   "source": [
    "可能的输出"
   ],
   "metadata": {
    "collapsed": false
   },
   "id": "4515eea73fe5adf1"
  },
  {
   "cell_type": "markdown",
   "source": [
    "```\n",
    "Kruskal MST:\n",
    "0 --(1)--> 1\n",
    "1 --(2)--> 2\n",
    "2 --(3)--> 3\n",
    "\n",
    "Prim MST:\n",
    "0 --(1)--> 1\n",
    "1 --(2)--> 2\n",
    "2 --(3)--> 3\n",
    "```"
   ],
   "metadata": {
    "collapsed": false
   },
   "id": "a563b484921028d3"
  },
  {
   "cell_type": "markdown",
   "source": [
    "## 注意事项\n",
    "- 图的表示：图可以使用邻接矩阵或邻接表表示。\n",
    "- 边的权重：边的权重可以是任意实数，但通常是非负数。\n",
    "- 算法选择：Kruskal 算法适用于稀疏图，Prim 算法适用于稠密图。\n",
    "\n",
    "## 总结\n",
    "最小生成树是带权无向图中所有生成树中边权重之和最小的树。常见的最小生成树算法包括 Kruskal 算法和 Prim 算法。通过这些算法，可以方便地求解最小生成树，并在网络设计、电路设计、聚类分析等领域应用。通过正确理解和使用最小生成树算法，可以更好地处理图结构，并进行相应的操作和调试。"
   ],
   "metadata": {
    "collapsed": false
   },
   "id": "8575f4ffdc95d99f"
  }
 ],
 "metadata": {
  "kernelspec": {
   "display_name": "Python 3",
   "language": "python",
   "name": "python3"
  },
  "language_info": {
   "codemirror_mode": {
    "name": "ipython",
    "version": 2
   },
   "file_extension": ".py",
   "mimetype": "text/x-python",
   "name": "python",
   "nbconvert_exporter": "python",
   "pygments_lexer": "ipython2",
   "version": "2.7.6"
  }
 },
 "nbformat": 4,
 "nbformat_minor": 5
}
