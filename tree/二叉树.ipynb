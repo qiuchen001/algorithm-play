{
 "cells": [
  {
   "cell_type": "markdown",
   "source": [
    "## 中序遍历"
   ],
   "metadata": {
    "collapsed": false
   },
   "id": "f79e39c25d68c725"
  },
  {
   "cell_type": "code",
   "execution_count": null,
   "outputs": [],
   "source": [
    "### 首先定义一个二叉树节点类 TreeNode:"
   ],
   "metadata": {
    "collapsed": false
   },
   "id": "20e7c1b921bfc398"
  },
  {
   "cell_type": "code",
   "execution_count": 1,
   "id": "initial_id",
   "metadata": {
    "collapsed": true,
    "ExecuteTime": {
     "end_time": "2024-09-14T03:22:52.310676300Z",
     "start_time": "2024-09-14T03:22:52.303676200Z"
    }
   },
   "outputs": [],
   "source": [
    "class TreeNode:\n",
    "    def __init__(self, x):\n",
    "        self.val = x\n",
    "        self.left = None\n",
    "        self.right = None"
   ]
  },
  {
   "cell_type": "markdown",
   "source": [
    "### 接下来实现递归的中序遍历函数 inorderTraversal:"
   ],
   "metadata": {
    "collapsed": false
   },
   "id": "942693e30d2de85b"
  },
  {
   "cell_type": "code",
   "execution_count": 2,
   "outputs": [],
   "source": [
    "def inorderTraversal(root):\n",
    "    # 定义内部辅助函数进行递归\n",
    "    def inorder(node):\n",
    "        if node is None:  # 如果节点为空，则返回\n",
    "            return\n",
    "        inorder(node.left)  # 先遍历左子树\n",
    "        print(node.val, end=' ')  # 访问根节点\n",
    "        inorder(node.right)  # 最后遍历右子树\n",
    "\n",
    "    inorder(root)  # 从根节点开始遍历"
   ],
   "metadata": {
    "collapsed": false,
    "ExecuteTime": {
     "end_time": "2024-09-14T03:22:57.957570700Z",
     "start_time": "2024-09-14T03:22:57.941573200Z"
    }
   },
   "id": "ce925f1c604b2856"
  },
  {
   "cell_type": "markdown",
   "source": [
    "### 现在我们可以创建一个简单的二叉树并调用 inorderTraversal 函数来测试它："
   ],
   "metadata": {
    "collapsed": false
   },
   "id": "5248104cceedf3a6"
  },
  {
   "cell_type": "code",
   "execution_count": 3,
   "outputs": [
    {
     "name": "stdout",
     "output_type": "stream",
     "text": [
      "Inorder traversal:\n",
      "4 2 5 1 3 "
     ]
    }
   ],
   "source": [
    "# 创建一个简单的二叉树：\n",
    "#       1\n",
    "#      / \\\n",
    "#     2   3\n",
    "#    / \\\n",
    "#   4   5\n",
    "\n",
    "root = TreeNode(1)\n",
    "root.left = TreeNode(2)\n",
    "root.right = TreeNode(3)\n",
    "root.left.left = TreeNode(4)\n",
    "root.left.right = TreeNode(5)\n",
    "\n",
    "# 进行中序遍历\n",
    "print(\"Inorder traversal:\")\n",
    "inorderTraversal(root)"
   ],
   "metadata": {
    "collapsed": false,
    "ExecuteTime": {
     "end_time": "2024-09-14T03:23:01.768169200Z",
     "start_time": "2024-09-14T03:23:01.729942900Z"
    }
   },
   "id": "c75d2893787d7d2"
  },
  {
   "cell_type": "markdown",
   "source": [
    "这段代码会输出 4 2 5 1 3，这是根据中序遍历的顺序：左-根-右。\n",
    "\n"
   ],
   "metadata": {
    "collapsed": false
   },
   "id": "2eeb3e9ae7cd5aef"
  }
 ],
 "metadata": {
  "kernelspec": {
   "display_name": "Python 3",
   "language": "python",
   "name": "python3"
  },
  "language_info": {
   "codemirror_mode": {
    "name": "ipython",
    "version": 2
   },
   "file_extension": ".py",
   "mimetype": "text/x-python",
   "name": "python",
   "nbconvert_exporter": "python",
   "pygments_lexer": "ipython2",
   "version": "2.7.6"
  }
 },
 "nbformat": 4,
 "nbformat_minor": 5
}
