{
 "cells": [
  {
   "cell_type": "markdown",
   "source": [
    "# 表达式求值\n",
    "## 中缀表达式转换为后缀表达式\n",
    "利用栈可以将中缀表达式转换为后缀表达式，具体步骤如下：\n",
    "- 从左到右遍历中缀表达式的每个元素\n",
    "- 操作数：直接输出到后缀表达式\n",
    "- 运算符：将其与栈顶运算符比较\n",
    "    - 如果栈为空或栈顶是左括号 (，直接入栈\n",
    "    - 否则如果当前运算符优先级高于栈顶运算符，直接入栈\n",
    "    - 否则，弹出栈顶运算符并输出到后缀表达式，直到栈顶运算符优先级低于当前运算符或栈为空，然后将当前运算符入栈\n",
    "- 左括号：直接入栈\n",
    "- 右括号：将栈中元素弹出并输出到后缀表达式，直到遇到左括号 (，然后将左括号出栈（不输出）\n",
    "- 遍历结束后，将栈中剩余的运算符依次弹出并输出到后缀表达式\n",
    "\n",
    "## 后缀表达式求值\n",
    "后缀表达式的求值直接利用栈进行计算，步骤如下：\n",
    "- 扫描表达式：从左到右\n",
    "- 操作数：压入栈\n",
    "- 运算符：弹出栈顶的两个元素，进行运算，然后将结果压入栈\n",
    "- 遍历结束后，栈中剩下的唯一元素就是表达式的值"
   ],
   "metadata": {
    "collapsed": false
   },
   "id": "6c007b3a53ba29e3"
  },
  {
   "cell_type": "code",
   "execution_count": 7,
   "outputs": [
    {
     "name": "stdout",
     "output_type": "stream",
     "text": [
      "Infix Expression: 3+4*2/(1-5)^2\n",
      "Postfix Expression: 342*15-2^/+\n",
      "Result: 3\n"
     ]
    }
   ],
   "source": [
    "# 中缀转后缀\n",
    "def infix_to_postfix(expression):\n",
    "    precedence = {'+': 1, '-': 1, '*': 2, '/': 2, '^': 3}\n",
    "    output = []\n",
    "    operators = [] # 运算符栈\n",
    "\n",
    "    for char in expression:\n",
    "        if char.isdigit(): # 操作数\n",
    "            output.append(char)\n",
    "        elif char in precedence: # 运算符\n",
    "            while (operators and operators[-1] != '(' and\n",
    "                   precedence[operators[-1]] >= precedence[char]): # 栈不为空且栈顶不是左括号，且当前运算符优先级小于等于栈顶运算符\n",
    "                output.append(operators.pop()) # 弹出栈顶运算符并输出到后缀表达式\n",
    "            operators.append(char) # 入栈\n",
    "        elif char == '(':\n",
    "            operators.append(char)\n",
    "        elif char == ')':\n",
    "            while operators and operators[-1] != '(':\n",
    "                output.append(operators.pop())\n",
    "            operators.pop()  # Pop the '('\n",
    "\n",
    "    while operators:\n",
    "        output.append(operators.pop())\n",
    "\n",
    "    return ''.join(output)\n",
    "\n",
    "# 后缀求值\n",
    "def evaluate_postfix(expression):\n",
    "    stack = []\n",
    "\n",
    "    for char in expression:\n",
    "        if char.isdigit():\n",
    "            stack.append(int(char))\n",
    "        else:\n",
    "            b = stack.pop()\n",
    "            a = stack.pop()\n",
    "            if char == '+':\n",
    "                stack.append(a + b)\n",
    "            elif char == '-':\n",
    "                stack.append(a - b)\n",
    "            elif char == '*':\n",
    "                stack.append(a * b)\n",
    "            elif char == '/':\n",
    "                stack.append(a // b)  # Use // for integer division\n",
    "            elif char == '^':\n",
    "                stack.append(a ** b)\n",
    "\n",
    "    return stack[0]\n",
    "\n",
    "# 示例\n",
    "infix_expression = \"3+4*2/(1-5)^2\"\n",
    "postfix_expression = infix_to_postfix(infix_expression)\n",
    "result = evaluate_postfix(postfix_expression)\n",
    "\n",
    "print(f\"Infix Expression: {infix_expression}\")\n",
    "print(f\"Postfix Expression: {postfix_expression}\")\n",
    "print(f\"Result: {result}\")"
   ],
   "metadata": {
    "collapsed": false,
    "ExecuteTime": {
     "end_time": "2024-09-12T02:46:33.289855600Z",
     "start_time": "2024-09-12T02:46:33.271859200Z"
    }
   },
   "id": "f488b0db5250bd56"
  },
  {
   "cell_type": "code",
   "execution_count": null,
   "outputs": [],
   "source": [],
   "metadata": {
    "collapsed": false
   },
   "id": "89792496ea7e594b"
  }
 ],
 "metadata": {
  "kernelspec": {
   "display_name": "Python 3",
   "language": "python",
   "name": "python3"
  },
  "language_info": {
   "codemirror_mode": {
    "name": "ipython",
    "version": 2
   },
   "file_extension": ".py",
   "mimetype": "text/x-python",
   "name": "python",
   "nbconvert_exporter": "python",
   "pygments_lexer": "ipython2",
   "version": "2.7.6"
  }
 },
 "nbformat": 4,
 "nbformat_minor": 5
}
